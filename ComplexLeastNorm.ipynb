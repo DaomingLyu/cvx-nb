{
 "cells": [
  {
   "cell_type": "markdown",
   "metadata": {},
   "source": [
    "# Complex Least-norm Probelm\n",
    "\n",
    "We consider the complex least $\\ell_p$-norm problem,\n",
    "\\begin{equation}\n",
    "\\begin{aligned}\n",
    "& \\underset{x}{\\text{minimize}}\n",
    "& & \\mid\\mid x \\mid\\mid_p \\\\\n",
    "& \\text{subject to}\n",
    "& & Ax = b \\\\\n",
    "\\end{aligned}\n",
    "\\end{equation}\n",
    "where $A \\in \\mathbb{C}^{m \\times n}$ , $b \\in \\mathbb{C}^m$ , and the variable is $x \\in \\mathbb{C}^n$. Here $ \\mid\\mid \\cdot \\mid\\mid_p$ denotes the $\\ell_p$-norm on $\\mathbb{C}^n$ , defined as\n",
    "\\begin{equation}\n",
    "\\mid\\mid x \\mid\\mid_p = \\left( \\sum_{i=1}^n \\mid x_i \\mid^p \\right)^{1/p}\n",
    "\\end{equation}\n",
    "for $p \\geq 1$, and $\\mid\\mid x \\mid\\mid_\\infty = \\text{max}_{i=1,...,n} \\mid x_i \\mid$. We assume $A$ is full rank, and $m < n$."
   ]
  },
  {
   "cell_type": "code",
   "execution_count": 30,
   "metadata": {
    "collapsed": true
   },
   "outputs": [],
   "source": [
    "%matplotlib inline\n",
    "import numpy as np\n",
    "np.set_printoptions(precision=5, suppress=True)\n",
    "import matplotlib.pyplot as plt\n",
    "from cvxpy import *"
   ]
  },
  {
   "cell_type": "markdown",
   "metadata": {},
   "source": [
    "## Problem data\n",
    "\n",
    "For this example, we will use random complex data:\n",
    "* $A \\in \\mathbb{C}^{m \\times n}$\n",
    "* $b \\in \\mathbb{C}^m$\n",
    "\n",
    "where $m=30$ and $n=100$."
   ]
  },
  {
   "cell_type": "code",
   "execution_count": 35,
   "metadata": {
    "collapsed": false
   },
   "outputs": [
    {
     "name": "stdout",
     "output_type": "stream",
     "text": [
      "Random complex128 (30, 100) matrix A\n",
      "Random complex128 (30, 1) vector b\n"
     ]
    }
   ],
   "source": [
    "m, n = 30, 100\n",
    "\n",
    "# Generate complex matrices and generate b in order to the optimization problem been feasible\n",
    "A = np.random.randn(m,n) + np.random.randn(m,n)*1j\n",
    "B = np.dot(A, (np.random.randn(n,1) + np.random.randn(n,1)*1j))\n",
    "\n",
    "print(\"Random {} {} matrix A\".format(A.dtype, A.shape))\n",
    "print(\"Random {} {} vector b\".format(B.dtype, B.shape))"
   ]
  },
  {
   "cell_type": "markdown",
   "metadata": {},
   "source": [
    "## Complex least $\\ell_2$-norm\n",
    "\n",
    "Formulate the complex least $\\ell_2$-norm problem as a real least $\\ell_2$-norm problem:\n",
    "\n",
    "\\begin{equation}\n",
    "\\begin{aligned}\n",
    "& \\underset{z}{\\text{minimize}}\n",
    "& & \\mid\\mid z \\mid\\mid_2 \\\\\n",
    "& \\text{subject to}\n",
    "& & \\begin{bmatrix}\n",
    "    \\mathcal{R}(A)       & -\\mathcal{I}(A) \\\\\n",
    "    \\mathcal{I}(A)       & \\mathcal{R}(A)\n",
    "\\end{bmatrix} z = \\begin{bmatrix}\n",
    "    \\mathcal{R}(b) \\\\\n",
    "    \\mathcal{I}(b) \\\\\n",
    "\\end{bmatrix} \\\\\n",
    "\\end{aligned}\n",
    "\\end{equation}\n",
    "\n",
    "where $z = (\\mathcal{R}(x), \\mathcal{I}(x))$. Note the above constraint is a way to express the complex Affine constraint $Ax=b$ using just real numbers.\n",
    "\n"
   ]
  },
  {
   "cell_type": "code",
   "execution_count": 36,
   "metadata": {
    "collapsed": false
   },
   "outputs": [
    {
     "name": "stdout",
     "output_type": "stream",
     "text": [
      "Solution status: optimal\n",
      "Optimal Value p* = 9.365647383447863\n",
      "Optimal solution x_l2* = [[ 0.44282+1.47494j  0.50874-0.0878j   0.90485+0.00964j -0.01219+0.24913j\n",
      "   0.33121-0.09918j  0.18725+0.35026j -0.51978-0.21255j  1.62108-1.75155j\n",
      "   0.37482+0.1599j  -0.56742+0.03136j  0.90436+0.30516j  0.27361+0.42419j\n",
      "   0.48359-0.59624j -0.27781-1.86528j -0.06186+0.05802j  0.72940+0.49482j\n",
      "   0.51448+0.0882j   0.19520-0.79107j -0.46643-0.6317j  -0.02802-0.31456j\n",
      "   0.80782-1.19132j -0.76210-0.14395j -0.34185-0.58319j -0.14979-0.23645j\n",
      "  -0.14058+0.16933j -0.15702-0.74113j -0.66481+1.42959j  0.55917+0.91934j\n",
      "  -0.41271-0.36844j -0.38681-0.03262j  0.29966-0.896j   -1.01164+0.30275j\n",
      "   0.64445+0.37056j -0.67330+0.15081j  0.01689-0.05924j -0.32888+0.144j\n",
      "  -0.14343+0.1839j  -0.34635-0.19074j -0.70778-0.8741j  -0.38533-0.27987j\n",
      "   0.57602+0.02673j -1.12537-0.15695j  0.19307-0.04299j -1.18250+0.78688j\n",
      "  -0.26263+0.09509j  0.77904-0.10014j -1.05211+0.31037j  1.54991-0.20797j\n",
      "  -0.33058-0.646j    1.40422-0.00741j  0.99132-0.46188j  0.59722+0.33694j\n",
      "  -0.09359+0.96887j -0.30521-0.87641j  0.00882-0.21383j  0.98845+0.17303j\n",
      "  -0.57415+1.05222j  0.99536-0.66885j -0.21630+0.83081j  0.15734-0.2037j\n",
      "  -0.40618-0.81334j -0.12858-0.24055j  0.06207+0.27528j -0.09802+0.1808j\n",
      "  -0.96145+0.73326j  0.76229-0.37626j  0.35853+1.19152j  0.16865+0.29651j\n",
      "  -0.23243+1.53907j -0.06133-0.01451j -0.08899+0.11383j  0.46560+0.75858j\n",
      "  -1.18119+0.30087j  1.49793+1.22781j  0.86376-1.11309j  0.00755+0.32905j\n",
      "   0.21580-0.32888j  0.87480-0.55483j  0.94998+0.58206j  0.53595-1.21561j\n",
      "   0.05284+0.60901j -0.33413-0.29937j  0.95574-0.07401j  0.52566+0.26831j\n",
      "   0.27823+0.15004j -0.71174-0.22546j  1.11573+0.47594j  0.19275-0.44897j\n",
      "  -1.03203-0.29965j -0.74603+0.65896j  1.01235+0.85655j  0.60147-0.52817j\n",
      "  -0.53019+1.33171j -0.41394-1.34381j -0.25245-0.9548j   0.22702+0.07207j\n",
      "   0.79101+0.10577j  0.44682+0.21596j  1.84718-0.45915j  0.27074+0.25473j]]\n"
     ]
    }
   ],
   "source": [
    "# complex least norm problem with reals variables\n",
    "# build real block matrix from complex matrices\n",
    "As = bmat([[np.real(A), -np.imag(A)],[np.imag(A), np.real(A)]])\n",
    "bs = bmat([[np.real(B)], [np.imag(B)]])\n",
    "\n",
    "# problem declaration\n",
    "z = Variable(2*n)\n",
    "obj = Minimize(norm(z, 2))\n",
    "const = [As * z == bs]\n",
    "prob = Problem(obj, const)\n",
    "\n",
    "# solve problem and build complex solution\n",
    "prob.solve()\n",
    "x_l2 = z.value[:n] + z.value[n:]*1j\n",
    "print(\"Solution status: {}\".format(prob.status))\n",
    "print(\"Optimal Value p* = {}\".format(prob.value))\n",
    "print(\"Optimal solution x_l2* = {}\".format(x_l2.ravel()))"
   ]
  },
  {
   "cell_type": "markdown",
   "metadata": {},
   "source": [
    "## Complex least $\\ell_\\infty$-norm problem\n",
    "\n",
    "Likewise, formulate the complex least $\\ell_\\infty$-norm problem:\n",
    "\\begin{equation}\n",
    "\\begin{aligned}\n",
    "& \\underset{z}{\\text{minimize}}\n",
    "& & \\mid\\mid z \\mid\\mid_\\infty \\\\\n",
    "& \\text{subject to}\n",
    "& & \\begin{bmatrix}\n",
    "    \\mathcal{R}(A)       & -\\mathcal{I}(A) \\\\\n",
    "    \\mathcal{I}(A)       & \\mathcal{R}(A)\n",
    "\\end{bmatrix} z = \\begin{bmatrix}\n",
    "    \\mathcal{R}(b) \\\\\n",
    "    \\mathcal{I}(b) \\\\\n",
    "\\end{bmatrix} \\\\\n",
    "\\end{aligned}\n",
    "\\end{equation}\n"
   ]
  },
  {
   "cell_type": "code",
   "execution_count": 37,
   "metadata": {
    "collapsed": false
   },
   "outputs": [
    {
     "name": "stdout",
     "output_type": "stream",
     "text": [
      "Solution status: optimal\n",
      "Optimal Value p* = 0.9349628382852089\n",
      "Optimal solution x_linf* = [[ 0.93496+0.93496j  0.84244-0.93496j  0.93496-0.17306j  0.93496+0.93496j\n",
      "   0.53224+0.33125j  0.93496+0.13252j -0.31615-0.93496j  0.93496-0.93496j\n",
      "   0.76691+0.93496j -0.07632-0.83489j  0.93496+0.84021j  0.93496+0.93496j\n",
      "   0.43858-0.93496j  0.33038-0.93496j -0.50383+0.69366j  0.93496+0.93496j\n",
      "   0.93496+0.47289j  0.93496-0.93496j -0.93496-0.93496j  0.93496-0.93496j\n",
      "   0.93496-0.93496j -0.93496+0.93496j -0.93496-0.93496j -0.93496-0.93496j\n",
      "  -0.37895+0.93496j  0.15230-0.93496j -0.93496+0.93496j  0.93496+0.93496j\n",
      "  -0.93496-0.93496j -0.93496+0.70059j  0.93496-0.93496j -0.93496+0.93496j\n",
      "   0.93496+0.93496j -0.93496+0.26812j -0.68746+0.6924j  -0.93496-0.93496j\n",
      "  -0.93496+0.55988j -0.93496-0.93496j -0.93496-0.93496j -0.93496-0.71592j\n",
      "   0.93496+0.26788j -0.93496+0.31834j -0.69629-0.68042j -0.93496+0.93496j\n",
      "  -0.23705+0.22635j  0.93496-0.83178j -0.93496+0.93496j  0.93496-0.01836j\n",
      "   0.64602-0.93496j  0.93496+0.93496j  0.93496-0.93496j  0.93496+0.93496j\n",
      "   0.56194+0.93496j -0.93496-0.93496j -0.93496-0.89166j  0.93496-0.28301j\n",
      "  -0.93496+0.93496j  0.93496-0.93496j -0.93496+0.93496j  0.36209-0.93496j\n",
      "  -0.93496-0.93496j -0.93496-0.93496j -0.81979+0.38046j  0.38157+0.7353j\n",
      "  -0.93496+0.93496j  0.93496+0.33218j  0.83717+0.93496j  0.93496+0.93496j\n",
      "  -0.93496+0.93496j -0.63229-0.93496j  0.30500+0.81629j  0.62667+0.93496j\n",
      "  -0.93496+0.93496j  0.93496+0.93496j  0.93496-0.93496j  0.43537+0.93496j\n",
      "   0.89755-0.93496j  0.93496-0.93496j  0.93496+0.93496j  0.93496-0.93496j\n",
      "   0.93496+0.93496j -0.93496+0.27599j  0.93496+0.76167j  0.93496+0.71993j\n",
      "   0.14296+0.15941j -0.93496+0.22727j  0.93496+0.93496j  0.80556-0.60365j\n",
      "  -0.93496-0.93496j -0.93496+0.93496j  0.93496+0.93496j  0.93496-0.93496j\n",
      "  -0.93496+0.93496j -0.93496-0.93496j -0.93496-0.93496j -0.92051+0.93496j\n",
      "   0.93496+0.22197j  0.93496-0.27887j  0.93496-0.93496j  0.93496+0.93496j]]\n"
     ]
    }
   ],
   "source": [
    "# least norm problem\n",
    "z = Variable(2*n)\n",
    "obj = Minimize(norm(z, 'inf'))\n",
    "const = [As * z == bs]\n",
    "prob = Problem(obj, const)\n",
    "\n",
    "# solve problem and build complex solution\n",
    "prob.solve()\n",
    "x_linf = z.value[:n] + z.value[n:]*1j\n",
    "print(\"Solution status: {}\".format(prob.status))\n",
    "print(\"Optimal Value p* = {}\".format(prob.value))\n",
    "print(\"Optimal solution x_linf* = {}\".format(x_linf.ravel()))\n"
   ]
  },
  {
   "cell_type": "code",
   "execution_count": 43,
   "metadata": {
    "collapsed": false
   },
   "outputs": [
    {
     "data": {
      "text/plain": [
       "<matplotlib.legend.Legend at 0x7f4bbff26f28>"
      ]
     },
     "execution_count": 43,
     "metadata": {},
     "output_type": "execute_result"
    },
    {
     "name": "stderr",
     "output_type": "stream",
     "text": [
      "/home/rfsantacruz/.conda/envs/ml_studies_env/lib/python3.4/site-packages/matplotlib/collections.py:590: FutureWarning: elementwise comparison failed; returning scalar instead, but in the future will perform elementwise comparison\n",
      "  if self._edgecolors == str('face'):\n"
     ]
    },
    {
     "data": {
      "image/png": "[encoded data removed]",
      "text/plain": [
       "<matplotlib.figure.Figure at 0x7f4bbff528d0>"
      ]
     },
     "metadata": {},
     "output_type": "display_data"
    }
   ],
   "source": [
    "# Plot Solutions\n",
    "plt.scatter(np.real(x_l2), np.imag(x_l2), c='b')\n",
    "plt.scatter(np.real(x_linf), np.imag(x_linf), c='r')\n",
    "plt.xlabel(\"Real\")\n",
    "plt.ylabel(\"Imaginary\")\n",
    "plt.legend(['L2', 'Inf'])"
   ]
  },
  {
   "cell_type": "code",
   "execution_count": null,
   "metadata": {
    "collapsed": true
   },
   "outputs": [],
   "source": []
  }
 ],
 "metadata": {
  "kernelspec": {
   "display_name": "Python 3",
   "language": "python",
   "name": "python3"
  },
  "language_info": {
   "codemirror_mode": {
    "name": "ipython",
    "version": 3
   },
   "file_extension": ".py",
   "mimetype": "text/x-python",
   "name": "python",
   "nbconvert_exporter": "python",
   "pygments_lexer": "ipython3",
   "version": "3.4.4"
  }
 },
 "nbformat": 4,
 "nbformat_minor": 0
}
