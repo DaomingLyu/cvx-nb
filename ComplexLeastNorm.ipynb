{
 "cells": [
  {
   "cell_type": "markdown",
   "metadata": {},
   "source": [
    "# Complex Least-norm Probelm\n",
    "\n",
    "We consider the complex least $\\ell_p$-norm problem,\n",
    "\\begin{equation}\n",
    "\\begin{aligned}\n",
    "& \\underset{x}{\\text{minimize}}\n",
    "& & \\mid\\mid x \\mid\\mid_p \\\\\n",
    "& \\text{subject to}\n",
    "& & Ax = b \\\\\n",
    "\\end{aligned}\n",
    "\\end{equation}\n",
    "where $A \\in \\mathbb{C}^{m \\times n}$ , $b \\in \\mathbb{C}^m$ , and the variable is $x \\in \\mathbb{C}^n$. Here $ \\mid\\mid \\cdot \\mid\\mid_p$ denotes the $\\ell_p$-norm on $\\mathbb{C}^n$ , defined as\n",
    "\\begin{equation}\n",
    "\\mid\\mid x \\mid\\mid_p = \\left( \\sum_{i=1}^n \\mid x_i \\mid^p \\right)^{1/p}\n",
    "\\end{equation}\n",
    "for $p \\geq 1$, and $\\mid\\mid x \\mid\\mid_\\infty = \\text{max}_{i=1,...,n} \\mid x_i \\mid$. We assume $A$ is full rank, and $m < n$."
   ]
  },
  {
   "cell_type": "code",
   "execution_count": 2,
   "metadata": {
    "collapsed": true
   },
   "outputs": [],
   "source": [
    "%matplotlib inline\n",
    "import numpy as np\n",
    "np.set_printoptions(precision=5, suppress=True)\n",
    "import matplotlib.pyplot as plt\n",
    "from cvxpy import *"
   ]
  },
  {
   "cell_type": "markdown",
   "metadata": {},
   "source": [
    "## Problem data\n",
    "\n",
    "For this example, we will use random complex data:\n",
    "* $A \\in \\mathbb{C}^{m \\times n}$\n",
    "* $b \\in \\mathbb{C}^m$\n",
    "\n",
    "where $m=30$ and $n=100$."
   ]
  },
  {
   "cell_type": "code",
   "execution_count": 3,
   "metadata": {
    "collapsed": false
   },
   "outputs": [
    {
     "name": "stdout",
     "output_type": "stream",
     "text": [
      "Random complex128 (30, 100) matrix A\n",
      "Random complex128 (30, 1) vector b\n"
     ]
    }
   ],
   "source": [
    "m, n = 30, 100\n",
    "\n",
    "# Generate complex matrices and generate b in order to the optimization problem been feasible\n",
    "A = np.random.randn(m,n) + np.random.randn(m,n)*1j\n",
    "B = np.dot(A, (np.random.randn(n,1) + np.random.randn(n,1)*1j))\n",
    "\n",
    "print(\"Random {} {} matrix A\".format(A.dtype, A.shape))\n",
    "print(\"Random {} {} vector b\".format(B.dtype, B.shape))"
   ]
  },
  {
   "cell_type": "markdown",
   "metadata": {},
   "source": [
    "## Complex least $\\ell_2$-norm\n",
    "\n",
    "Formulate the complex least $\\ell_2$-norm problem as a real least $\\ell_2$-norm problem:\n",
    "\n",
    "\\begin{equation}\n",
    "\\begin{aligned}\n",
    "& \\underset{z}{\\text{minimize}}\n",
    "& & \\mid\\mid z \\mid\\mid_2 \\\\\n",
    "& \\text{subject to}\n",
    "& & \\begin{bmatrix}\n",
    "    \\mathcal{R}(A)       & -\\mathcal{I}(A) \\\\\n",
    "    \\mathcal{I}(A)       & \\mathcal{R}(A)\n",
    "\\end{bmatrix} z = \\begin{bmatrix}\n",
    "    \\mathcal{R}(b) \\\\\n",
    "    \\mathcal{I}(b) \\\\\n",
    "\\end{bmatrix} \\\\\n",
    "\\end{aligned}\n",
    "\\end{equation}\n",
    "\n",
    "where $z = (\\mathcal{R}(x), \\mathcal{I}(x))$. Note the above constraint is a way to express the complex Affine constraint $Ax=b$ using just real numbers.\n",
    "\n"
   ]
  },
  {
   "cell_type": "code",
   "execution_count": 4,
   "metadata": {
    "collapsed": false
   },
   "outputs": [
    {
     "name": "stdout",
     "output_type": "stream",
     "text": [
      "Solution status: optimal\n",
      "Optimal Value p* = 7.253486609145484\n",
      "Optimal solution x_l2* = [[ 0.14360-0.64749j  0.11327+0.16545j -0.49112-0.10825j  0.30787-0.40066j\n",
      "  -0.43531-0.27193j -0.88115+0.71783j -0.16587+0.39971j -0.05576+0.58657j\n",
      "   0.24272+0.56557j -0.67125+0.05294j  1.22974-0.1573j  -0.17691+0.56216j\n",
      "   0.59649-0.23684j -0.03849-0.70795j -0.65838-0.3451j  -0.28295+0.05268j\n",
      "  -0.29710+0.2958j  -0.33798-0.71642j  0.46984-0.07433j  0.13806-0.91004j\n",
      "   1.01594+0.19724j -0.24858-0.23255j  0.99068-0.95195j  0.48913+0.12549j\n",
      "   0.94038+0.85195j  0.13514-0.09593j  0.45227-0.34627j  0.36611-0.26218j\n",
      "   0.08660+0.5768j   1.00528-0.43199j  0.53315+0.17042j -0.28174+0.71166j\n",
      "  -1.37697+0.43191j  0.69166+0.37246j -0.04093-0.3913j  -0.53900-0.14429j\n",
      "  -0.92204-0.51409j  0.28221+0.63016j -0.28206-0.04979j  0.89837-0.4625j\n",
      "   0.98153+0.40971j  0.50397+0.0001j  -0.26034+0.47777j -0.79951+0.34447j\n",
      "  -0.76401-0.34118j  0.05386+0.52487j  0.07635-0.21075j  1.09499-0.26156j\n",
      "  -1.00248-0.1621j   0.57495+0.96268j -0.32700-0.57104j  0.97359+0.1929j\n",
      "  -1.00129+0.5569j   0.59067-0.00321j  0.85406-0.60327j -0.28292-0.31258j\n",
      "  -0.46398-0.0396j   0.41475+0.04063j -0.47430-0.29175j  0.29381-0.89326j\n",
      "  -0.09865-0.37147j -0.00031+0.72109j  0.37582+0.29954j  0.74369-0.0724j\n",
      "  -0.68233+0.28776j  0.72813-0.11662j  0.31041+0.27709j -0.58630+0.14069j\n",
      "  -0.36626-0.06798j  0.08034+1.10167j  0.13039-0.1341j  -0.52309+0.72412j\n",
      "   0.22937+0.38176j  0.89282-0.01721j -0.16747+0.22515j  0.23141+0.06559j\n",
      "  -0.49756+0.4203j   0.27198+0.50089j -0.03946-0.38994j  0.05991+0.86478j\n",
      "  -1.05267+0.37666j -0.14283+0.40167j  0.23213+0.38104j -0.27575-0.45395j\n",
      "  -0.15238-0.42093j -0.76008+0.67148j  0.40548-0.018j   -0.00868-0.42398j\n",
      "   0.22218-0.64316j -0.02668-0.13272j  0.41610-0.51303j  0.23573+0.22203j\n",
      "   0.96842+0.04725j  0.06507+0.31311j -0.43967-0.02597j  0.03969-0.63896j\n",
      "   0.22091+0.25667j  0.74969-0.82189j  0.24994-0.38439j -0.58488+0.71945j]]\n"
     ]
    }
   ],
   "source": [
    "# complex least norm problem with reals variables\n",
    "# build real block matrix from complex matrices\n",
    "As = bmat([[np.real(A), -np.imag(A)],[np.imag(A), np.real(A)]])\n",
    "bs = bmat([[np.real(B)], [np.imag(B)]])\n",
    "\n",
    "# problem declaration\n",
    "z = Variable(2*n)\n",
    "obj = Minimize(pnorm(z, 2))\n",
    "const = [As * z == bs]\n",
    "prob = Problem(obj, const)\n",
    "\n",
    "# solve problem and build complex solution\n",
    "prob.solve()\n",
    "x_l2 = z.value[:n] + z.value[n:]*1j\n",
    "print(\"Solution status: {}\".format(prob.status))\n",
    "print(\"Optimal Value p* = {}\".format(prob.value))\n",
    "print(\"Optimal solution x_l2* = {}\".format(x_l2.ravel()))"
   ]
  },
  {
   "cell_type": "markdown",
   "metadata": {},
   "source": [
    "## Complex least $\\ell_\\infty$-norm problem\n",
    "\n",
    "Likewise, formulate the complex least $\\ell_\\infty$-norm problem:\n",
    "\\begin{equation}\n",
    "\\begin{aligned}\n",
    "& \\underset{z}{\\text{minimize}}\n",
    "& & \\mid\\mid z \\mid\\mid_\\infty \\\\\n",
    "& \\text{subject to}\n",
    "& & \\begin{bmatrix}\n",
    "    \\mathcal{R}(A)       & -\\mathcal{I}(A) \\\\\n",
    "    \\mathcal{I}(A)       & \\mathcal{R}(A)\n",
    "\\end{bmatrix} z = \\begin{bmatrix}\n",
    "    \\mathcal{R}(b) \\\\\n",
    "    \\mathcal{I}(b) \\\\\n",
    "\\end{bmatrix} \\\\\n",
    "\\end{aligned}\n",
    "\\end{equation}\n"
   ]
  },
  {
   "cell_type": "code",
   "execution_count": 5,
   "metadata": {
    "collapsed": false
   },
   "outputs": [
    {
     "name": "stdout",
     "output_type": "stream",
     "text": [
      "Solution status: optimal\n",
      "Optimal Value p* = 0.6919836932988194\n",
      "Optimal solution x_linf* = [[ 0.34455-0.69198j  0.69198+0.18091j -0.69198-0.47399j  0.69198-0.60684j\n",
      "  -0.69198-0.53564j -0.69198+0.69198j -0.24895+0.69198j -0.11166+0.69198j\n",
      "  -0.69198+0.69198j -0.69198-0.35995j  0.69198+0.06151j -0.69198+0.69198j\n",
      "   0.69198-0.69198j -0.37415-0.69198j -0.69198-0.69198j -0.69198+0.64698j\n",
      "  -0.69198+0.69198j -0.69198-0.69198j  0.69198+0.69198j  0.09156-0.69198j\n",
      "   0.69198+0.53579j -0.69198-0.69198j  0.69198-0.69198j  0.69198+0.69198j\n",
      "   0.69198+0.1272j   0.69198-0.31652j  0.69198-0.69198j  0.69198-0.27239j\n",
      "   0.14662+0.69198j  0.69198-0.51183j  0.69198+0.69198j -0.14408+0.69198j\n",
      "  -0.69198+0.69198j  0.69198+0.69198j -0.69198-0.69198j -0.55075-0.69198j\n",
      "  -0.69198-0.69198j -0.69198+0.69198j -0.35934+0.54794j  0.69198-0.69198j\n",
      "   0.69198+0.69198j  0.69198-0.52875j -0.69198+0.69198j -0.69198+0.69198j\n",
      "  -0.69198+0.00728j  0.69198+0.69198j  0.69198-0.69198j  0.69198-0.69198j\n",
      "  -0.69198-0.69198j  0.69198+0.69198j -0.69198-0.69198j  0.69198+0.55414j\n",
      "  -0.69198+0.69198j  0.69198+0.40117j  0.69198-0.69198j -0.69198-0.62093j\n",
      "  -0.69198+0.52015j  0.50295-0.25882j -0.34142-0.28228j  0.69198-0.69198j\n",
      "   0.69198-0.69198j -0.56601+0.69198j  0.69198+0.69198j  0.69198-0.47439j\n",
      "  -0.69198+0.20414j  0.69198-0.69198j  0.69198+0.46945j -0.69198+0.69198j\n",
      "  -0.69198-0.55806j  0.69198+0.69198j  0.18533-0.69198j -0.69198+0.69198j\n",
      "   0.61930+0.69198j  0.69198+0.24928j  0.36890+0.41383j  0.20176+0.69198j\n",
      "  -0.69198+0.69198j -0.10243+0.69198j -0.58084-0.69198j -0.13691+0.69198j\n",
      "  -0.69198+0.69198j -0.66813+0.69198j  0.42763+0.69198j -0.69198-0.69198j\n",
      "  -0.14387-0.69198j -0.69198+0.69198j  0.69198-0.69198j -0.36817-0.69198j\n",
      "   0.14067-0.69198j -0.69198-0.16388j  0.25794-0.69198j  0.69198+0.61234j\n",
      "   0.69198+0.56432j  0.62169+0.69198j -0.69198+0.36429j  0.63398-0.69198j\n",
      "  -0.08966+0.69198j  0.69198-0.69198j  0.69198-0.69198j -0.69198+0.69198j]]\n"
     ]
    }
   ],
   "source": [
    "# least norm problem\n",
    "z = Variable(2*n)\n",
    "obj = Minimize(pnorm(z, 'inf'))\n",
    "const = [As * z == bs]\n",
    "prob = Problem(obj, const)\n",
    "\n",
    "# solve problem and build complex solution\n",
    "prob.solve()\n",
    "x_linf = z.value[:n] + z.value[n:]*1j\n",
    "print(\"Solution status: {}\".format(prob.status))\n",
    "print(\"Optimal Value p* = {}\".format(prob.value))\n",
    "print(\"Optimal solution x_linf* = {}\".format(x_linf.ravel()))\n"
   ]
  },
  {
   "cell_type": "code",
   "execution_count": 6,
   "metadata": {
    "collapsed": false
   },
   "outputs": [
    {
     "data": {
      "text/plain": [
       "<matplotlib.legend.Legend at 0x7fd741b7efd0>"
      ]
     },
     "execution_count": 6,
     "metadata": {},
     "output_type": "execute_result"
    },
    {
     "name": "stderr",
     "output_type": "stream",
     "text": [
      "/home/rfsantacruz/.conda/envs/ml_studies_env/lib/python3.4/site-packages/matplotlib/collections.py:590: FutureWarning: elementwise comparison failed; returning scalar instead, but in the future will perform elementwise comparison\n",
      "  if self._edgecolors == str('face'):\n"
     ]
    },
    {
     "data": {
      "image/png": "[encoded data removed]",
      "text/plain": [
       "<matplotlib.figure.Figure at 0x7fd743f22c50>"
      ]
     },
     "metadata": {},
     "output_type": "display_data"
    }
   ],
   "source": [
    "# Plot Solutions\n",
    "plt.scatter(np.real(x_l2), np.imag(x_l2), c='b')\n",
    "plt.scatter(np.real(x_linf), np.imag(x_linf), c='r')\n",
    "plt.xlabel(\"Real\")\n",
    "plt.ylabel(\"Imaginary\")\n",
    "plt.legend(['L2', 'Inf'])"
   ]
  },
  {
   "cell_type": "code",
   "execution_count": null,
   "metadata": {
    "collapsed": true
   },
   "outputs": [],
   "source": []
  }
 ],
 "metadata": {
  "kernelspec": {
   "display_name": "Python 3",
   "language": "python",
   "name": "python3"
  },
  "language_info": {
   "codemirror_mode": {
    "name": "ipython",
    "version": 3
   },
   "file_extension": ".py",
   "mimetype": "text/x-python",
   "name": "python",
   "nbconvert_exporter": "python",
   "pygments_lexer": "ipython3",
   "version": "3.4.4"
  }
 },
 "nbformat": 4,
 "nbformat_minor": 0
}
