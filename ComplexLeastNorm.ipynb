{
 "cells": [
  {
   "cell_type": "markdown",
   "metadata": {},
   "source": [
    "# Complex Least-norm Probelm\n",
    "\n",
    "We consider the complex least $\\ell_p$-norm problem,\n",
    "\\begin{equation}\n",
    "\\begin{aligned}\n",
    "& \\underset{x}{\\text{minimize}}\n",
    "& & \\mid\\mid x \\mid\\mid_p \\\\\n",
    "& \\text{subject to}\n",
    "& & Ax = b \\\\\n",
    "\\end{aligned}\n",
    "\\end{equation}\n",
    "where $A \\in \\mathbb{C}^{m \\times n}$ , $b \\in \\mathbb{C}^m$ , and the variable is $x \\in \\mathbb{C}^n$. Here $ \\mid\\mid \\cdot \\mid\\mid_p$ denotes the $\\ell_p$-norm on $\\mathbb{C}^n$ , defined as\n",
    "\\begin{equation}\n",
    "\\mid\\mid x \\mid\\mid_p = \\left( \\sum_{i=1}^n \\mid x_i \\mid^p \\right)^{1/p}\n",
    "\\end{equation}\n",
    "for $p \\geq 1$, and $\\mid\\mid x \\mid\\mid_\\infty = \\text{max}_{i=1,...,n} \\mid x_i \\mid$. We assume $A$ is full rank, and $m < n$."
   ]
  },
  {
   "cell_type": "code",
   "execution_count": 55,
   "metadata": {
    "collapsed": true
   },
   "outputs": [],
   "source": [
    "%matplotlib inline\n",
    "import numpy as np\n",
    "np.set_printoptions(precision=5, suppress=True)\n",
    "import matplotlib.pyplot as plt\n",
    "from cvxpy import *"
   ]
  },
  {
   "cell_type": "markdown",
   "metadata": {},
   "source": [
    "## Problem data\n",
    "\n",
    "For this example, we will use random complex data:\n",
    "* $A \\in \\mathbb{C}^{m \\times n}$\n",
    "* $b \\in \\mathbb{C}^m$\n",
    "\n",
    "where $m=30$ and $n=10$."
   ]
  },
  {
   "cell_type": "code",
   "execution_count": 56,
   "metadata": {
    "collapsed": false
   },
   "outputs": [
    {
     "name": "stdout",
     "output_type": "stream",
     "text": [
      "Random complex128 (30, 10) matrix A\n",
      "Random complex128 (30, 1) vector b\n"
     ]
    }
   ],
   "source": [
    "m, n = 30, 10\n",
    "\n",
    "# Generate complex matrices and generate b in order to the optimization problem been feasible\n",
    "A = np.random.randn(m,n) + np.random.randn(m,n)*1j\n",
    "B = np.dot(A, np.random.randn(n,1))\n",
    "\n",
    "print(\"Random {} {} matrix A\".format(A.dtype, A.shape))\n",
    "print(\"Random {} {} vector b\".format(B.dtype, B.shape))"
   ]
  },
  {
   "cell_type": "markdown",
   "metadata": {},
   "source": [
    "## Complex least $\\ell_2$-norm\n",
    "\n",
    "Formulate the complex least $\\ell_2$-norm problem as a real least $\\ell_2$-norm problem:\n",
    "\n",
    "\\begin{equation}\n",
    "\\begin{aligned}\n",
    "& \\underset{z}{\\text{minimize}}\n",
    "& & \\mid\\mid z \\mid\\mid_2 \\\\\n",
    "& \\text{subject to}\n",
    "& & \\begin{bmatrix}\n",
    "    \\mathcal{R}(A)       & -\\mathcal{I}(A) \\\\\n",
    "    \\mathcal{I}(A)       & \\mathcal{R}(A)\n",
    "\\end{bmatrix} z = \\begin{bmatrix}\n",
    "    \\mathcal{R}(b) \\\\\n",
    "    \\mathcal{I}(b) \\\\\n",
    "\\end{bmatrix} \\\\\n",
    "\\end{aligned}\n",
    "\\end{equation}\n",
    "\n",
    "where $z = (\\mathcal{R}(x), \\mathcal{I}(x))$. Note the above constraint is a way to express the complex Affine constraint $Ax=b$ using just real numbers.\n",
    "\n"
   ]
  },
  {
   "cell_type": "code",
   "execution_count": 57,
   "metadata": {
    "collapsed": false
   },
   "outputs": [
    {
     "name": "stdout",
     "output_type": "stream",
     "text": [
      "Solution status: optimal\n",
      "Optimal Value p* = 3.005616573374096\n",
      "Optimal solution x* = [[ 0.46069-0.j  0.46240-0.j  0.64574+0.j  1.39240-0.j -1.44656+0.j\n",
      "  -0.42417-0.j  0.19579+0.j -1.83269+0.j -0.66598-0.j -0.37262-0.j]]\n"
     ]
    }
   ],
   "source": [
    "# complex least norm problem with reals variables\n",
    "# build real block matrix from complex matrices\n",
    "As = bmat([[np.real(A), -np.imag(A)],[np.imag(A), np.real(A)]])\n",
    "bs = bmat([[np.real(B)], [np.imag(B)]])\n",
    "\n",
    "# problem declaration\n",
    "z = Variable(2*n)\n",
    "obj = Minimize(norm(z, 2))\n",
    "const = [As * z == bs]\n",
    "prob = Problem(obj, const)\n",
    "\n",
    "# solve problem and build complex solution\n",
    "prob.solve()\n",
    "x = z.value[:n] + z.value[n:]*1j\n",
    "print(\"Solution status: {}\".format(prob.status))\n",
    "print(\"Optimal Value p* = {}\".format(prob.value))\n",
    "print(\"Optimal solution x* = {}\".format(x.ravel()))"
   ]
  },
  {
   "cell_type": "markdown",
   "metadata": {},
   "source": [
    "## Complex least $\\ell_\\infty$-norm problem\n",
    "\n",
    "Likewise, formulate the complex least $\\ell_\\infty$-norm problem:\n",
    "\\begin{equation}\n",
    "\\begin{aligned}\n",
    "& \\underset{z}{\\text{minimize}}\n",
    "& & \\mid\\mid z \\mid\\mid_\\infty \\\\\n",
    "& \\text{subject to}\n",
    "& & \\begin{bmatrix}\n",
    "    \\mathcal{R}(A)       & -\\mathcal{I}(A) \\\\\n",
    "    \\mathcal{I}(A)       & \\mathcal{R}(A)\n",
    "\\end{bmatrix} z = \\begin{bmatrix}\n",
    "    \\mathcal{R}(b) \\\\\n",
    "    \\mathcal{I}(b) \\\\\n",
    "\\end{bmatrix} \\\\\n",
    "\\end{aligned}\n",
    "\\end{equation}\n"
   ]
  },
  {
   "cell_type": "code",
   "execution_count": 58,
   "metadata": {
    "collapsed": false
   },
   "outputs": [
    {
     "name": "stdout",
     "output_type": "stream",
     "text": [
      "Solution status: optimal\n",
      "Optimal Value p* = 1.8326875307734054\n",
      "Optimal solution x* = [[ 0.46069-0.j  0.46240-0.j  0.64574+0.j  1.39240+0.j -1.44656+0.j\n",
      "  -0.42417-0.j  0.19579-0.j -1.83269-0.j -0.66598-0.j -0.37262+0.j]]\n"
     ]
    }
   ],
   "source": [
    "# least norm problem\n",
    "z = Variable(2*n)\n",
    "obj = Minimize(norm(z, 'inf'))\n",
    "const = [As * z == bs]\n",
    "prob = Problem(obj, const)\n",
    "\n",
    "# solve problem and build complex solution\n",
    "prob.solve()\n",
    "x = z.value[:n] + z.value[n:]*1j\n",
    "print(\"Solution status: {}\".format(prob.status))\n",
    "print(\"Optimal Value p* = {}\".format(prob.value))\n",
    "print(\"Optimal solution x* = {}\".format(x.ravel()))"
   ]
  },
  {
   "cell_type": "code",
   "execution_count": null,
   "metadata": {
    "collapsed": true
   },
   "outputs": [],
   "source": []
  }
 ],
 "metadata": {
  "kernelspec": {
   "display_name": "Python 3",
   "language": "python",
   "name": "python3"
  },
  "language_info": {
   "codemirror_mode": {
    "name": "ipython",
    "version": 3
   },
   "file_extension": ".py",
   "mimetype": "text/x-python",
   "name": "python",
   "nbconvert_exporter": "python",
   "pygments_lexer": "ipython3",
   "version": "3.4.4"
  }
 },
 "nbformat": 4,
 "nbformat_minor": 0
}
