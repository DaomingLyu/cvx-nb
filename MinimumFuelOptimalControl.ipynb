{
 "cells": [
  {
   "cell_type": "markdown",
   "metadata": {},
   "source": [
    "# Minimum fuel optimal control\n",
    "\n",
    "We consider a linear dynamical system with state $x(t) \\in \\mathbb{R}^n$, $t = 0, . . . , N$ , and actuator or input signal $u(t) \\in \\mathbb{R}$, for $t = 0, . . . , N − 1$. The dynamics of the system is given by the linear recurrence,\n",
    "\\begin{equation}\n",
    "x(t+1) = Ax(t) + bu(t), ~t = 0, \\ldots, N-1\n",
    "\\end{equation}\n",
    "\n",
    "where $A \\in \\mathbb{R}^{n \\times n}$ and $b \\in \\mathbb{R}^n$ are given. We assume that the initial state is zero, i.e., $x(0) = 0$. \n",
    "\n",
    "In addition, the total fuel comsumed by the system is given by,\n",
    "\\begin{equation}\n",
    "F = \\sum_{t=0}^{N-1} f(u(t))\n",
    "\\end{equation}\n",
    "\n",
    "where $N$ is the (given) time horizon and the function $f : \\mathbb{R} \\mapsto \\mathbb{R}$ gives the amount of fuel used as a function of the actuator signal amplitude. In this problem we use,\n",
    "\n",
    "\\begin{equation}\n",
    " f(a)=\n",
    "    \\begin{cases}\n",
    "      \\mid a \\mid,~\\mid a \\mid  \\leq 1 \\\\\n",
    "      2 \\mid a \\mid -1,~\\mid a \\mid > 1\n",
    "    \\end{cases}\n",
    "\\end{equation}\n",
    "\n",
    "This means that fuel use is proportional to the absolute value of the actuator signal, for actuator signals between −1 and 1; for larger actuator signals the marginal fuel efficiency is half.\n",
    "\n",
    "\n",
    "**The minimum fuel optimal control problem is to choose the inputs $u(0), \\ldots, u(N − 1)$ so as to minimize the total fuel consumed, subject to the constraint that $x(N) = x_{des}$ where $x_{des} \\in \\mathbb{R}^n$ is the (given) desired final or target state.** "
   ]
  },
  {
   "cell_type": "code",
   "execution_count": 23,
   "metadata": {
    "collapsed": true
   },
   "outputs": [],
   "source": [
    "# Import libraries\n",
    "%matplotlib inline\n",
    "import numpy as np\n",
    "np.set_printoptions(precision=2, suppress=True)\n",
    "import matplotlib.pyplot as plt\n",
    "from cvxpy import *"
   ]
  },
  {
   "cell_type": "markdown",
   "metadata": {},
   "source": [
    "## Problem Data\n",
    "\n",
    "For this problem we are going to use the following given data,\n",
    "\n",
    "* $N=30$\n",
    "* $n=3$\n",
    "* $A \\in \\mathbb{R}^{3 \\times 3}$\n",
    "* $b \\in \\mathbb{R}^3$\n",
    "* $x_{des} \\in \\mathbb{R}^3$\n"
   ]
  },
  {
   "cell_type": "code",
   "execution_count": 24,
   "metadata": {
    "collapsed": false
   },
   "outputs": [
    {
     "name": "stdout",
     "output_type": "stream",
     "text": [
      "N = 30\n",
      "A = [[-1.   0.4  0.8]\n",
      " [ 1.   0.   0. ]\n",
      " [ 0.   1.   0. ]]\n",
      "b = [[ 1. ]\n",
      " [ 0. ]\n",
      " [ 0.3]]\n",
      "Xdes = [ 7.  2. -6.]\n"
     ]
    }
   ],
   "source": [
    "# Data\n",
    "N = 30\n",
    "n = 3\n",
    "print(\"N = {}\".format(N))\n",
    "A = np.array([[-1, 0.4, 0.8],[1, 0, 0], [0, 1, 0]], dtype=np.float)\n",
    "print(\"A = {}\".format(A))\n",
    "b = np.array([1, 0, 0.3], dtype=np.float).reshape(n,1)\n",
    "print(\"b = {}\".format(b))\n",
    "xdes = np.array([7, 2, -6], dtype=np.float)\n",
    "print(\"Xdes = {}\".format(xdes))"
   ]
  },
  {
   "cell_type": "markdown",
   "metadata": {},
   "source": [
    "## Problem Description\n",
    "This problem can be stated as linear program through some work, but we are going to state it as a general convex optimization problem and let the CVXPY do the rest of the job.\n",
    "\n",
    "\\begin{equation}\n",
    "\\begin{aligned}\n",
    "& \\underset{x, u}{\\text{minimize}}\n",
    "& & \\sum_{t=0}^{N-1} max(\\mid u_t\\mid, 2 \\mid u_t\\mid -1) \\\\\n",
    "& \\text{subject to}\n",
    "& & x(0) = \\mathbf{0}\\\\\n",
    "& & & x(t+1) = Ax(t) + bu(t), ~for ~t=0,\\ldots, N-1 \\\\\n",
    "& & & x(N) = x_{des}\n",
    "\\end{aligned}\n",
    "\\end{equation}\n"
   ]
  },
  {
   "cell_type": "code",
   "execution_count": 25,
   "metadata": {
    "collapsed": false
   },
   "outputs": [
    {
     "name": "stdout",
     "output_type": "stream",
     "text": [
      "Problem Status: optimal\n",
      "Optimal value p* = : 17.323567851898524\n",
      "Optimal solution u* = : [[ 0.    0.   -0.    1.   -1.    1.   -0.    0.    0.   -1.    1.   -1.\n",
      "   0.25 -0.   -0.    0.   -1.    1.   -1.    0.   -0.   -0.    1.   -0.7\n",
      "   1.   -0.    0.    0.    0.    3.19]]\n"
     ]
    },
    {
     "data": {
      "text/plain": [
       "<matplotlib.text.Text at 0x7fb67b5017b8>"
      ]
     },
     "execution_count": 25,
     "metadata": {},
     "output_type": "execute_result"
    },
    {
     "data": {
      "image/png": "[encoded data removed]",
      "text/plain": [
       "<matplotlib.figure.Figure at 0x7fb67b58a198>"
      ]
     },
     "metadata": {},
     "output_type": "display_data"
    }
   ],
   "source": [
    "# Describe the convex problem\n",
    "X = Variable(n, N+1)\n",
    "u = Variable(1, N)\n",
    "obj = Minimize(sum_entries(max_elemwise(abs(u), 2*abs(u)-1)))\n",
    "constr = [X[:, 0] == 0, X[:, 1:] == A*X[:,:N] + b*u, X[:, -1] == xdes]\n",
    "prob = Problem(obj, constr)\n",
    "\n",
    "# solve the problem\n",
    "prob.solve()\n",
    "print(\"Problem Status: {}\".format(prob.status))\n",
    "print(\"Optimal value p* = : {}\".format(prob.value))\n",
    "print(\"Optimal solution u* = : {}\".format(u.value))\n",
    "plt.step(np.arange(N), np.ravel(u.value))\n",
    "plt.xlabel('Time t')\n",
    "plt.ylabel('Actuator u(t)')"
   ]
  },
  {
   "cell_type": "code",
   "execution_count": null,
   "metadata": {
    "collapsed": true
   },
   "outputs": [],
   "source": []
  }
 ],
 "metadata": {
  "kernelspec": {
   "display_name": "Python 3",
   "language": "python",
   "name": "python3"
  },
  "language_info": {
   "codemirror_mode": {
    "name": "ipython",
    "version": 3
   },
   "file_extension": ".py",
   "mimetype": "text/x-python",
   "name": "python",
   "nbconvert_exporter": "python",
   "pygments_lexer": "ipython3",
   "version": "3.4.4"
  }
 },
 "nbformat": 4,
 "nbformat_minor": 0
}
