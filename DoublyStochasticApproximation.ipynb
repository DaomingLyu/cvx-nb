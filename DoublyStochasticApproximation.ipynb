{
 "cells": [
  {
   "cell_type": "markdown",
   "metadata": {},
   "source": [
    "# Doubly Stochastic Approximation\n",
    "\n",
    "A doubly stochastic matrix is a squared nonnegative matrix which every single row and every single column sum to one.  According to the Birkhoff-von Neumann theorem, DSMs form the Birkhoff polytope $\\mathbb{B}^{n}$ which is a convex hull for the set of $n \\times n$ permutation matrices. Consequently, it is natural to think of DSMs as relaxations of permutation matrices. In addition, DSMs are continuous which make them useful for gradient-based learners, differently from permutation matrices.\n"
   ]
  },
  {
   "cell_type": "code",
   "execution_count": 89,
   "metadata": {
    "collapsed": true
   },
   "outputs": [],
   "source": [
    "%matplotlib inline\n",
    "import numpy as np\n",
    "np.set_printoptions(precision=5, suppress=True)\n",
    "import matplotlib.pyplot as plt\n",
    "from cvxpy import *"
   ]
  },
  {
   "cell_type": "markdown",
   "metadata": {},
   "source": [
    "## Problem\n",
    "\n",
    "Therefore, **the goal of doubly stochastic approximation is to find the closest doubly stochastic matrix $Y \\in \\mathbb{B}^{n \\times n}$ from a given arbritary square matrix $X \\in \\mathbb{R}^{n \\times n}$**. We will use random matrices as Xs and introduce approximate and exact solutions for this problem. In order to measure the quality of the approximation, we will measure the average $\\ell_1\\text{-error}$ over rows and columns.\n"
   ]
  },
  {
   "cell_type": "code",
   "execution_count": 90,
   "metadata": {
    "collapsed": false
   },
   "outputs": [
    {
     "name": "stdout",
     "output_type": "stream",
     "text": [
      "Averaged DSM error for a random matrix: 20.07\n"
     ]
    }
   ],
   "source": [
    "# l1-Error\n",
    "def dsm_error(X):\n",
    "    e_rows = np.abs(1. - np.sum(X, axis=1))\n",
    "    e_cols = np.abs(1. - np.sum(X, axis=0))\n",
    "    return np.mean(np.append(e_rows, e_cols))\n",
    "\n",
    "# Random generated matrix\n",
    "X = np.random.rand(4,4) * 10\n",
    "print(\"Averaged DSM error for a random matrix: {:.2f}\".format(dsm_error(X)))"
   ]
  },
  {
   "cell_type": "markdown",
   "metadata": {},
   "source": [
    "### Sinkhorn Iterations\n",
    "\n",
    "According to the Sinkhorn theorem, if $X$ is an $n \\times n$ matrix with **strictly positive elements**, then there exist diagonal matrices $D_1$ and $D_2$ with strictly positive diagonal elements such that $D_1XD_2$ is doubly stochastic. In addition, Sinkhorn and Knopp introduced a simple iterative method to approach the double stochastic matrix by alternately rescaling all rows and all columns of $X$ to sum to 1. Therefore, a principled and efficient way to approximate DSMs is to make use of these theorems. "
   ]
  },
  {
   "cell_type": "code",
   "execution_count": 95,
   "metadata": {
    "collapsed": false
   },
   "outputs": [
    {
     "name": "stdout",
     "output_type": "stream",
     "text": [
      "Random input:\n",
      "[[ 0.93816  0.31993]\n",
      " [ 0.04423  0.52943]]\n",
      "Sinkhorn Approx. DSM:\n",
      "[[ 0.85572  0.14454]\n",
      " [ 0.14428  0.85546]]\n"
     ]
    }
   ],
   "source": [
    "def sinkhorn(X, max_it=10):\n",
    "    Y = np.copy(X)\n",
    "    for it in range(max_it):\n",
    "        # Line multipliers normalizer\n",
    "        D1 = np.diagflat(1. / np.sum(Y, axis=1))\n",
    "        # Cols multipliers normalizer\n",
    "        D2 = np.diagflat(1. / np.sum(np.dot(D1, Y), axis=0))\n",
    "        # Normalize D1 Y D2\n",
    "        Y = np.dot(np.dot(D1, Y),D2)\n",
    "    return Y, D1, D2\n",
    "\n",
    "X = np.random.rand(2,2)\n",
    "Y, _, _ = sinkhorn(X)\n",
    "print(\"Random input:\\n{}\".format(X))\n",
    "print(\"Sinkhorn Approx. DSM:\\n{}\".format(Y))"
   ]
  },
  {
   "cell_type": "markdown",
   "metadata": {},
   "source": [
    "Let's do a better experiment: Create $NumTrials$ (e.g, 10) random matrix of size $n$, compute their approximated dsm using the sinkhorn algorithm, compute the approximation error and report a boxplot. Repeat this experiment for different matrices size (e.g, $n \\in [2, 10]$). As we can see below, the Sinkhorn normalization just need 10 iterations to reach almost perfect approximations. In addition, larger matrices makes the convergence even better.    "
   ]
  },
  {
   "cell_type": "code",
   "execution_count": 92,
   "metadata": {
    "collapsed": false
   },
   "outputs": [
    {
     "data": {
      "image/png": "[encoded data removed]",
      "text/plain": [
       "<matplotlib.figure.Figure at 0x7f8f2ecba9e8>"
      ]
     },
     "metadata": {},
     "output_type": "display_data"
    }
   ],
   "source": [
    "# Experiment\n",
    "NumTrials, Nmax = 10, 10\n",
    "errors = np.ones((NumTrials, Nmax), dtype=np.float)\n",
    "for n in range(Nmax):\n",
    "    for trial in range(NumTrials):\n",
    "        X = np.random.rand(2+n, 2+n)\n",
    "        Y, _, _ = sinkhorn(X, max_it=10)\n",
    "        errors[trial, n] = dsm_error(Y)\n",
    "\n",
    "# Boxplot of dsm errors \n",
    "plt.boxplot(errors, labels=range(2, 2+Nmax), showmeans=True)\n",
    "plt.ylim([-1e-5,1e-5])\n",
    "plt.ylabel('AVG DSM Error')\n",
    "plt.xlabel('Matrix size')\n",
    "plt.show()"
   ]
  },
  {
   "cell_type": "markdown",
   "metadata": {},
   "source": [
    "### Exact Solution\n",
    "\n",
    "The DSM approximation problem can be described as,\n",
    "\\begin{equation*}\n",
    "\\begin{aligned}\n",
    "& \\underset{Y \\in \\mathbb{R_+}^{n \\times n}}{\\text{minimize}}\n",
    "& & \\mid\\mid Y - X \\mid\\mid_F \\\\\n",
    "& \\text{subject to}\n",
    "& & \\mathbf{1^T} Y = \\mathbf{1} \\\\\n",
    "& & & Y \\mathbf{1} = \\mathbf{1} \\\\\n",
    "\\end{aligned}\n",
    "\\end{equation*}\n",
    "where $\\mathbf{1}$ is a column vector of ones. This problem is convex and can be easily stated as a quadratic program by vectorizing the matrices and performing the change of variavle $z = vec(Y) - vec(x)$. However, we will let  "
   ]
  },
  {
   "cell_type": "code",
   "execution_count": 93,
   "metadata": {
    "collapsed": false
   },
   "outputs": [
    {
     "name": "stdout",
     "output_type": "stream",
     "text": [
      "Random input:\n",
      "[[ 0.74256  0.18086  0.66062]\n",
      " [ 0.2361   0.75894  0.68974]\n",
      " [ 0.33575  0.11498  0.79574]]\n",
      "Best Approx. DSM:\n",
      "[[ 0.61144  0.13629  0.25227]\n",
      " [ 0.0714   0.68079  0.24781]\n",
      " [ 0.31716  0.18293  0.49992]]\n"
     ]
    }
   ],
   "source": [
    "# DSM approx. as QP\n",
    "def dsm_qp(X):\n",
    "    Y = Variable(*X.shape)\n",
    "    obj = Minimize(norm(Y - X, 'fro'))\n",
    "    consts = [sum_entries(Y, axis=0) == 1, sum_entries(Y, axis=1) == 1, Y >= 0]\n",
    "    prob = Problem(obj, consts)\n",
    "    prob.solve()\n",
    "    return Y.value, prob.value\n",
    "\n",
    "X = np.random.rand(3,3)\n",
    "Y, _ = dsm_qp(X)\n",
    "print(\"Random input:\\n{}\".format(X))\n",
    "print(\"Best Approx. DSM:\\n{}\".format(Y))                                                      "
   ]
  },
  {
   "cell_type": "markdown",
   "metadata": {},
   "source": [
    "If the problem is feasible, then the solution is the closest DSM to the given arbritary matrix. Different from the Sinkhorn approach, this method does not require any special structure in the input matrix, it can even have negative entries. However, it may be more computationally expensive than the Sinkhorn approach for large matrices.\n",
    "\n",
    "As a final experiment, let's se how far the Sinkhorn solutions are from optimum. We create $NumTrials$ (e.g., 10) random matrices of size $n$, find the approximated dsm by both methods, compute the forbenius norm between them and report the box plot of these values. We repeat this experiment for $n \\in [2, 10]$. Note the Sinkhorn solutions become far from the optimum as the input matrix size $n$ increases."
   ]
  },
  {
   "cell_type": "code",
   "execution_count": 94,
   "metadata": {
    "collapsed": false
   },
   "outputs": [
    {
     "data": {
      "image/png": "[encoded data removed]",
      "text/plain": [
       "<matplotlib.figure.Figure at 0x7f8f2eb21e48>"
      ]
     },
     "metadata": {},
     "output_type": "display_data"
    }
   ],
   "source": [
    "NumTrials, Nmax = 10, 10\n",
    "fro_dist = np.ones((NumTrials, Nmax), dtype=np.float)\n",
    "for n in range(Nmax):\n",
    "    for trial in range(NumTrials):\n",
    "        X = np.random.rand(2+n, 2+n)\n",
    "        Y_sk, _, _ = sinkhorn(X, max_it=10)\n",
    "        Y_qp, _ = dsm_qp(X)\n",
    "        fro_dist[trial, n] = np.linalg.norm(Y_qp - Y_sk, ord='fro')\n",
    "        \n",
    "# Boxplot of opt dist\n",
    "plt.boxplot(fro_dist, labels=range(2, 2+Nmax), showmeans=True)\n",
    "plt.ylabel('Fro. Norm to the optimum')\n",
    "plt.xlabel('Matrix size')\n",
    "plt.show()"
   ]
  },
  {
   "cell_type": "code",
   "execution_count": null,
   "metadata": {
    "collapsed": true
   },
   "outputs": [],
   "source": []
  }
 ],
 "metadata": {
  "kernelspec": {
   "display_name": "Python 3",
   "language": "python",
   "name": "python3"
  },
  "language_info": {
   "codemirror_mode": {
    "name": "ipython",
    "version": 3
   },
   "file_extension": ".py",
   "mimetype": "text/x-python",
   "name": "python",
   "nbconvert_exporter": "python",
   "pygments_lexer": "ipython3",
   "version": "3.4.4"
  }
 },
 "nbformat": 4,
 "nbformat_minor": 0
}
