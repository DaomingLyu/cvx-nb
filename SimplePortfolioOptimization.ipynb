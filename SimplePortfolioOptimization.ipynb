{
 "cells": [
  {
   "cell_type": "markdown",
   "metadata": {},
   "source": [
    "# Simple Portfolio Optimization\n",
    "\n",
    "We consider a classical portfolio problem with $n$ assets held over a period of time. We let $x_i$ denote the amount of asset $i$ held throughout the period. We let $p_i$ denote the relative price change of asset $i$ over the period, i.e., its change in price over the period divided by its price at the beginning of the period. The overall return on the portfolio is,\n",
    "\n",
    "\\begin{equation}\n",
    "r = \\sum_i^n p_i x_i\n",
    "\\end{equation}\n",
    "\n",
    "**The problem consists how to buy and sell assets $x \\in R^n$ in order to have the highest return and/or lowest risk, subject to a budget and other constraints.** This problem is well discussed on page 150 of [cvx-book](https://web.stanford.edu/~boyd/cvxbook/)."
   ]
  },
  {
   "cell_type": "code",
   "execution_count": 160,
   "metadata": {
    "collapsed": true
   },
   "outputs": [],
   "source": [
    "%matplotlib inline\n",
    "import numpy as np\n",
    "np.set_printoptions(precision=5, suppress=True)\n",
    "import matplotlib.pyplot as plt\n",
    "from cvxpy import *\n",
    "import scipy.stats as stats"
   ]
  },
  {
   "cell_type": "markdown",
   "metadata": {},
   "source": [
    "## Problem data\n",
    "\n",
    "We consider a stochastic model for prices change by assuming $p \\in \\mathbb{R}^n$ is a random variable with mean $\\bar{p}$ and covariance $\\Sigma$. Consequently, the return r is also a random variable with mean $\\bar{p}^T x$ and variance $x^T \\Sigma x$. Then, the choice of portfolio involves a trade-off between the expected return (mean) and its risk (variance). \n",
    "\n",
    "* $n$ assests\n",
    "* $x \\in \\mathbb{R}^n$ portfolio\n",
    "* $\\bar{p} \\in \\mathbb{R}^n$ prices mean\n",
    "* $\\Sigma \\in \\mathbb{R}^{n \\times n}$ prices variance"
   ]
  },
  {
   "cell_type": "code",
   "execution_count": 161,
   "metadata": {
    "collapsed": false
   },
   "outputs": [],
   "source": [
    "n = 20\n",
    "pbar = np.ones((n,1))*.03 + np.r_[np.random.rand(n-1,1), np.zeros((1,1))]*.12;\n",
    "S = np.random.randn(n, n); S = np.asmatrix(S)\n",
    "S = S.T*S\n",
    "S = S/max(np.abs(np.diag(S)))*.2\n",
    "S[:, -1] = np.zeros((n, 1))\n",
    "S[-1, :] = np.zeros((n, 1)).T"
   ]
  },
  {
   "cell_type": "markdown",
   "metadata": {},
   "source": [
    "## Minimum-risk portfolio\n",
    "\n",
    "The classical portfolio problem cosists of minimizing the risk of achiving a minimum acceptable return satisfying the portfolio budget and other constraints. Here, we will use the return achieved by an uniform portfolio as the minimum acceptable return and evaluate the portfolio risk under different constraints.\n",
    "\n",
    "* Uniform portfolio:\n",
    "\\begin{equation}\n",
    "x_i = \\frac{1}{n},~for~i=0, \\ldots, n\\\\\n",
    "r_{min} = \\bar{p}^T x_{uni} = \\bar{p}^T \\frac{1}{n}\\mathbf{1}  \n",
    "\\end{equation}\n"
   ]
  },
  {
   "cell_type": "code",
   "execution_count": 61,
   "metadata": {
    "collapsed": false
   },
   "outputs": [
    {
     "name": "stdout",
     "output_type": "stream",
     "text": [
      "> Uniform portfolio: [ 0.05  0.05  0.05  0.05  0.05  0.05  0.05  0.05  0.05  0.05  0.05  0.05\n",
      "  0.05  0.05  0.05  0.05  0.05  0.05  0.05  0.05]\n",
      " return: 9.09%\n",
      " risk: 6.89%\n"
     ]
    }
   ],
   "source": [
    "# Uniform portfolio\n",
    "x_unif = np.ones((n, 1))/n;\n",
    "r_unif = np.ravel(np.dot(pbar.T, x_unif))[0]\n",
    "std_unif = np.ravel(np.sqrt(np.dot(np.dot(x_unif.T, S), x_unif)))[0]\n",
    "print(\"> Uniform portfolio: {}\".format(np.ravel(x_unif)))\n",
    "print(\" return: {:.2f}%\".format(r_unif * 100))\n",
    "print(\" risk: {:.2f}%\".format(std_unif * 100))"
   ]
  },
  {
   "cell_type": "markdown",
   "metadata": {},
   "source": [
    "* Minimum-risk portfolio:\n",
    "\\begin{equation}\n",
    "\\begin{aligned}\n",
    "& \\underset{x \\in \\mathbb{R}^n}{\\text{minimize}}\n",
    "& & x^T \\Sigma x \\\\\n",
    "& \\text{subject to}\n",
    "& &   \\bar{p}^T x \\geq r_{min} \\\\\n",
    "& & & \\mathbf{1}^T x = 1\n",
    "\\end{aligned}\n",
    "\\end{equation}"
   ]
  },
  {
   "cell_type": "code",
   "execution_count": 162,
   "metadata": {
    "collapsed": false
   },
   "outputs": [
    {
     "name": "stdout",
     "output_type": "stream",
     "text": [
      "> Minimum-risk portfolio: [ 0.05566  0.1499   0.10681  0.14011  0.18062  0.20085 -0.16343 -0.10608\n",
      " -0.00177  0.25883  0.13695 -0.08317 -0.0344  -0.0354  -0.12065  0.12712\n",
      "  0.19599  0.18671 -0.15465 -0.04001]\n",
      " return: 9.09%\n",
      " risk: 2.59%\n"
     ]
    }
   ],
   "source": [
    "# Miminum risk\n",
    "x = Variable(n, 1)\n",
    "prob = Problem(Minimize(quad_form(x, S)), [pbar.T * x >= r_unif, sum_entries(x) == 1])\n",
    "prob.solve()\n",
    "x_mr = np.ravel(x.value)\n",
    "r_mr = np.ravel(np.dot(pbar.T, x.value))[0]\n",
    "std_mr = np.sqrt(prob.value)\n",
    "print(\"> Minimum-risk portfolio: {}\".format(x_mr))\n",
    "print(\" return: {:.2f}%\".format(r_mr * 100))\n",
    "print(\" risk: {:.2f}%\".format(std_mr * 100))"
   ]
  },
  {
   "cell_type": "markdown",
   "metadata": {},
   "source": [
    "* Markowitz portifolio: The classical portfolio optimization problem was introduced by Markowitz. In his version, there is a non-short position constraint.\n",
    "\n",
    "\\begin{equation}\n",
    "\\begin{aligned}\n",
    "& \\underset{x \\in \\mathbb{R}^n}{\\text{minimize}}\n",
    "& & x^T \\Sigma x \\\\\n",
    "& \\text{subject to}\n",
    "& &   \\bar{p}^T x \\geq r_{min} \\\\\n",
    "& & & \\mathbf{1}^T x = 1 \\\\\n",
    "& & & x \\succeq 0\n",
    "\\end{aligned}\n",
    "\\end{equation}"
   ]
  },
  {
   "cell_type": "code",
   "execution_count": 163,
   "metadata": {
    "collapsed": false
   },
   "outputs": [
    {
     "name": "stdout",
     "output_type": "stream",
     "text": [
      "> Markowitz portfolio: [ 0.03879  0.07239  0.       0.06317  0.13731  0.09242  0.       0.00867\n",
      "  0.       0.13492  0.00871  0.0198   0.       0.       0.       0.04717\n",
      "  0.11426  0.15636  0.       0.10604]\n",
      " return: 9.09%\n",
      " risk: 4.72%\n"
     ]
    }
   ],
   "source": [
    "# Markowitz portfolio\n",
    "x = Variable(n, 1)\n",
    "prob = Problem(Minimize(quad_form(x, S)), [pbar.T * x >= r_unif, sum_entries(x) == 1, x >= 0])\n",
    "prob.solve()\n",
    "x_mp = np.ravel(x.value)\n",
    "r_mp = np.ravel(np.dot(pbar.T, x.value))[0]\n",
    "std_mp = np.sqrt(prob.value)\n",
    "print(\"> Markowitz portfolio: {}\".format(x_mp))\n",
    "print(\" return: {:.2f}%\".format(r_mp * 100))\n",
    "print(\" risk: {:.2f}%\".format(std_mp * 100))"
   ]
  },
  {
   "cell_type": "markdown",
   "metadata": {},
   "source": [
    "* Limited short positions: Another extension is to allow short positions until a limited percentage of the portfolio.\n",
    "\n",
    "\\begin{equation}\n",
    "\\begin{aligned}\n",
    "& \\underset{x \\in \\mathbb{R}^n}{\\text{minimize}}\n",
    "& & x^T \\Sigma x \\\\\n",
    "& \\text{subject to}\n",
    "& &   \\bar{p}^T x \\geq r_{min} \\\\\n",
    "& & & \\mathbf{1}^T x = 1 \\\\\n",
    "& & & \\mathbf{1}^T max(-x, 0) \\leq 0.5\n",
    "\\end{aligned}\n",
    "\\end{equation}\n"
   ]
  },
  {
   "cell_type": "code",
   "execution_count": 164,
   "metadata": {
    "collapsed": false
   },
   "outputs": [
    {
     "name": "stdout",
     "output_type": "stream",
     "text": [
      "> Limited short positions portfolio: [ 0.06552  0.13444  0.05422  0.11522  0.16497  0.16347 -0.11678 -0.04911\n",
      " -0.       0.23711  0.10706 -0.05282 -0.01156 -0.03289 -0.09053  0.09807\n",
      "  0.17273  0.18719 -0.13042 -0.01589]\n",
      " return: 9.09%\n",
      " risk: 2.73%\n"
     ]
    }
   ],
   "source": [
    "# Limited short positions\n",
    "x = Variable(n, 1)\n",
    "prob = Problem(Minimize(quad_form(x, S)), [pbar.T * x >= r_unif, sum_entries(x) == 1, sum_entries(pos(-x)) <= 0.5])\n",
    "prob.solve()\n",
    "x_ls = np.ravel(x.value)\n",
    "r_ls = np.ravel(np.dot(pbar.T, x.value))[0]\n",
    "std_ls = np.sqrt(prob.value)\n",
    "print(\"> Limited short positions portfolio: {}\".format(x_ls))\n",
    "print(\" return: {:.2f}%\".format(r_ls * 100))\n",
    "print(\" risk: {:.2f}%\".format(std_ls * 100))"
   ]
  },
  {
   "cell_type": "markdown",
   "metadata": {},
   "source": [
    "### Results\n",
    "\n",
    "The portfolios have the same expected return as required, but their risk profiles differ drastically which means we can achieve the desired return with less risk. In addition, note that all of these problems are **quadratic programs (QP)** since the objective is convex quadratic with $\\Sigma \\in S^n_+$ and the constraints are linear."
   ]
  },
  {
   "cell_type": "code",
   "execution_count": 165,
   "metadata": {
    "collapsed": false
   },
   "outputs": [
    {
     "data": {
      "text/plain": [
       "([<matplotlib.axis.XTick at 0x7ff3f3e202b0>,\n",
       "  <matplotlib.axis.XTick at 0x7ff3f3af3080>,\n",
       "  <matplotlib.axis.XTick at 0x7ff3f3acd8d0>,\n",
       "  <matplotlib.axis.XTick at 0x7ff3f39b5860>],\n",
       " <a list of 4 Text xticklabel objects>)"
      ]
     },
     "execution_count": 165,
     "metadata": {},
     "output_type": "execute_result"
    },
    {
     "data": {
      "image/png": "[encoded data removed]",
      "text/plain": [
       "<matplotlib.figure.Figure at 0x7ff3f3badcc0>"
      ]
     },
     "metadata": {},
     "output_type": "display_data"
    }
   ],
   "source": [
    "# Plot results\n",
    "plt.bar(range(4), [std_unif, std_mr, std_mp, std_ls], 1)\n",
    "plt.ylabel('Risk as standard deviation')\n",
    "plt.xticks(np.arange(4) + 0.5, ('Uniform', 'Minimum-risk', 'Markowitz', 'Limited Short const.'))"
   ]
  },
  {
   "cell_type": "markdown",
   "metadata": {},
   "source": [
    "## Optimal risk-return trade-off\n",
    "\n",
    "The classical portfolio optimization problem can also be expressed as the simultaneous maximization of the return and minimization of the risk associated with a given portfolio. In other words, this is equivalent to minimize the neagative return mean and minimize the return variance in a bi-criterion problem.\n",
    "\n",
    "\\begin{equation}\n",
    "\\begin{aligned}\n",
    "& \\underset{x \\in \\mathbb{R}^n}{\\text{minimize (w.r.t $\\mathbb{R}^2_+$)}}\n",
    "& & (-\\bar{p}^T x, x^T \\Sigma x) \\\\\n",
    "& \\text{subject to}\n",
    "& & \\mathbf{1}^T x = 1 \\\\\n",
    "& & & x \\succeq 0\n",
    "\\end{aligned}\n",
    "\\end{equation}\n",
    "\n",
    "We can apply the scalarization technique in this problem to find the pareto optimal and minimial elements by solving a series of QPs for different $\\lambda$ values.\n",
    "\n",
    "\\begin{equation}\n",
    "\\begin{aligned}\n",
    "& \\underset{x \\in \\mathbb{R}^n}{\\text{minimize}}\n",
    "& & -\\bar{p}^T x + \\lambda x^T \\Sigma x \\\\\n",
    "& \\text{subject to}\n",
    "& & \\mathbf{1}^T x = 1 \\\\\n",
    "& & & x \\succeq 0\n",
    "\\end{aligned}\n",
    "\\end{equation}\n",
    "\n"
   ]
  },
  {
   "cell_type": "code",
   "execution_count": 166,
   "metadata": {
    "collapsed": false
   },
   "outputs": [
    {
     "data": {
      "text/plain": [
       "<matplotlib.legend.Legend at 0x7ff3f3999e80>"
      ]
     },
     "execution_count": 166,
     "metadata": {},
     "output_type": "execute_result"
    },
    {
     "data": {
      "image/png": "[encoded data removed]",
      "text/plain": [
       "<matplotlib.figure.Figure at 0x7ff3f3bf7518>"
      ]
     },
     "metadata": {},
     "output_type": "display_data"
    }
   ],
   "source": [
    "# OPtimal risk-return tradeof\n",
    "num_vals = 50\n",
    "lamb_vals = np.logspace(-1, 4, num=num_vals)\n",
    "port, obj, ret, risk = np.zeros((num_vals, n)), np.zeros(num_vals), np.zeros(num_vals), np.zeros(num_vals) \n",
    "x = Variable(n, 1)\n",
    "lamb = Parameter(sign='Positive')\n",
    "prob = Problem(Minimize(-pbar.T*x + lamb*quad_form(x, S)), [sum_entries(x) == 1, x >= 0])\n",
    "for idx, val in enumerate(lamb_vals):\n",
    "    # Solve a QP\n",
    "    lamb.value = val\n",
    "    prob.solve()\n",
    "    port[idx] = np.ravel(x.value)\n",
    "    obj[idx] = prob.value\n",
    "    ret[idx] = np.ravel(np.dot(pbar.T, x.value))[0]\n",
    "    risk[idx] = np.ravel(np.sqrt(np.dot(np.dot(x.value.T, S), x.value)))[0]\n",
    "\n",
    "\n",
    "# generating feasible portfolios\n",
    "rand_points = 1000\n",
    "rand_ret, rand_risk = np.zeros(rand_points), np.zeros(rand_points) \n",
    "for idx in range(rand_points):\n",
    "    rand_port = np.random.rand(n)\n",
    "    rand_port = np.reshape(rand_port / rand_port.sum(), (n,1))\n",
    "    rand_ret[idx] = np.ravel(np.dot(pbar.T, rand_port))[0]\n",
    "    rand_risk[idx] = np.ravel(np.sqrt(np.dot(np.dot(rand_port.T, S), rand_port)))[0]\n",
    "\n",
    "    \n",
    "# Plots\n",
    "plt.plot(ret, risk, 'o-', c='r', label='Pareto optimal')\n",
    "plt.plot(rand_ret, rand_risk, 'o', c='b', label='Feasible portfolios')\n",
    "plt.plot([r_unif], [std_unif], 'o', c='y', label='Uniform portfolios')\n",
    "plt.xlabel('Return (mean return)')\n",
    "plt.ylabel('Risk (std. return)')\n",
    "plt.legend()"
   ]
  }
 ],
 "metadata": {
  "kernelspec": {
   "display_name": "Python 3",
   "language": "python",
   "name": "python3"
  },
  "language_info": {
   "codemirror_mode": {
    "name": "ipython",
    "version": 3
   },
   "file_extension": ".py",
   "mimetype": "text/x-python",
   "name": "python",
   "nbconvert_exporter": "python",
   "pygments_lexer": "ipython3",
   "version": "3.4.4"
  }
 },
 "nbformat": 4,
 "nbformat_minor": 0
}
